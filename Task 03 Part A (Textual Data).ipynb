{
 "cells": [
  {
   "cell_type": "code",
   "execution_count": 4,
   "id": "6366feb2-8e0c-4c1b-bc49-9c19b1c5dfda",
   "metadata": {},
   "outputs": [
    {
     "name": "stdout",
     "output_type": "stream",
     "text": [
      "\n",
      "--- Vocabulary (Features) ---\n",
      "['02' '06' '10' '11' '12' '13' '14' '15' '16' '17' '18' '19' '20' '21'\n",
      " '22' '23' '25' '27' '28' '30' '32' '33' '35' '37' '38' '72' '76' '82'\n",
      " '86' '92' '96' 'afternoon' 'americano' 'cappuccino' 'card' 'chocolate'\n",
      " 'cocoa' 'cortado' 'espresso' 'hot' 'latte' 'milk' 'morning' 'night'\n",
      " 'with']\n",
      "\n",
      "Shape of Feature Matrix: (100, 45)\n",
      "\n",
      "--- Bag-of-Words Numerical Feature Matrix (first 10 docs) ---\n",
      "   02  06  10  11  12  13  14  15  16  17  ...  chocolate  cocoa  cortado  \\\n",
      "0   0   0   0   0   0   0   0   0   0   0  ...          0      0        0   \n",
      "1   0   0   0   0   0   0   0   0   0   0  ...          0      0        0   \n",
      "2   0   0   0   0   0   0   0   0   0   1  ...          0      0        0   \n",
      "3   0   0   0   0   0   0   1   0   0   0  ...          0      1        0   \n",
      "4   0   0   0   0   1   0   0   1   0   0  ...          0      0        0   \n",
      "5   0   0   0   0   0   0   0   0   0   0  ...          0      0        0   \n",
      "6   1   0   0   0   0   0   0   0   0   0  ...          0      0        0   \n",
      "7   0   0   0   0   0   0   0   0   0   0  ...          0      0        0   \n",
      "8   0   0   0   0   0   0   0   0   1   0  ...          0      0        0   \n",
      "9   0   0   0   0   0   0   0   0   0   1  ...          0      0        0   \n",
      "\n",
      "   espresso  hot  latte  milk  morning  night  with  \n",
      "0         0    0      0     1        0      1     1  \n",
      "1         0    0      1     0        0      1     0  \n",
      "2         0    0      0     0        0      1     0  \n",
      "3         0    0      0     0        0      0     0  \n",
      "4         1    0      0     0        0      0     0  \n",
      "5         0    0      1     0        1      0     0  \n",
      "6         0    0      0     0        0      1     0  \n",
      "7         0    0      0     0        0      1     0  \n",
      "8         0    0      0     0        0      0     0  \n",
      "9         0    0      0     1        0      1     1  \n",
      "\n",
      "[10 rows x 45 columns]\n",
      "\n",
      " BoW transformed data saved as 'coffee_sales_bow.csv'\n"
     ]
    }
   ],
   "source": [
    "import pandas as pd\n",
    "from sklearn.feature_extraction.text import CountVectorizer\n",
    "\n",
    "# Step 1: Load dataset\n",
    "df = pd.read_csv(\"coffee_sales.csv\")\n",
    "\n",
    "# Step 2: Select the first 5 columns and take 100 samples\n",
    "df_sample = df.iloc[:, :5].dropna().astype(str).sample(100, random_state=42)\n",
    "\n",
    "# Step 3: Combine the 5 columns into one text field per row\n",
    "combined_text = df_sample.apply(lambda x: ' '.join(x.values), axis=1)\n",
    "\n",
    "# Step 4: Create Bag-of-Words representation\n",
    "vectorizer = CountVectorizer()\n",
    "X = vectorizer.fit_transform(combined_text)\n",
    "\n",
    "# Step 5: Convert to DataFrame for readability\n",
    "bow_df = pd.DataFrame(X.toarray(), columns=vectorizer.get_feature_names_out())\n",
    "\n",
    "# Step 6: Show results\n",
    "print(\"\\n--- Vocabulary (Features) ---\")\n",
    "print(vectorizer.get_feature_names_out())\n",
    "\n",
    "print(\"\\nShape of Feature Matrix:\", bow_df.shape)\n",
    "\n",
    "print(\"\\n--- Bag-of-Words Numerical Feature Matrix (first 10 docs) ---\")\n",
    "print(bow_df.head(10))\n",
    "\n",
    "# Step 7: Save to file\n",
    "bow_df.to_csv(\"coffee_sales_bow_transformed.csv\", index=False)\n",
    "print(\"\\n BoW transformed data saved as 'coffee_sales_bow.csv'\")\n"
   ]
  },
  {
   "cell_type": "code",
   "execution_count": null,
   "id": "9383d444-ad8e-4705-84be-597c46b7eddf",
   "metadata": {},
   "outputs": [],
   "source": []
  }
 ],
 "metadata": {
  "kernelspec": {
   "display_name": "Python [conda env:base] *",
   "language": "python",
   "name": "conda-base-py"
  },
  "language_info": {
   "codemirror_mode": {
    "name": "ipython",
    "version": 3
   },
   "file_extension": ".py",
   "mimetype": "text/x-python",
   "name": "python",
   "nbconvert_exporter": "python",
   "pygments_lexer": "ipython3",
   "version": "3.13.5"
  }
 },
 "nbformat": 4,
 "nbformat_minor": 5
}
